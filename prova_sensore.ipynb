{
 "cells": [
  {
   "cell_type": "code",
   "execution_count": null,
   "metadata": {
    "collapsed": true
   },
   "outputs": [],
   "source": [
    "from pynq.pl import Overlay\n",
    "Overlay(\"audiovideo.bit\").download()\n",
    "%matplotlib inline\n",
    "from pynq.pmods import Grove_ADC\n",
    "import time\n",
    "import matplotlib.pyplot as plt\n",
    "grove_adc = Grove_ADC(1, 4)\n",
    "\n",
    "grove_adc.set_log_interval_ms(1000)\n",
    "time.sleep(5)\n",
    "grove_adc.start_log()\n",
    "values=grove_adc.get_log()\n",
    "somma=0\n",
    "sommas=0\n",
    "count=0\n",
    "for i in range(5):\n",
    "    somma=somma+values[i]\n",
    "v_medio_in=somma/5\n",
    "print(\"Valore medio iniziale:\"+str(v_medio_in))\n",
    "temp=5*[0]\n",
    "while True:\n",
    "    temp.pop(0)\n",
    "    temp.append(grove_adc.read())\n",
    "    time.sleep(1)\n",
    "    count++\n",
    "    if (count%5)==0:\n",
    "        v_medio_suc=(sum(temp)/5)\n",
    "        print(\"Valore medio finale:\"+str(v_medio_suc))"
   ]
  }
 ],
 "metadata": {
  "kernelspec": {
   "display_name": "Python 3",
   "language": "python",
   "name": "python3"
  },
  "language_info": {
   "codemirror_mode": {
    "name": "ipython",
    "version": 3
   },
   "file_extension": ".py",
   "mimetype": "text/x-python",
   "name": "python",
   "nbconvert_exporter": "python",
   "pygments_lexer": "ipython3",
   "version": "3.5.1"
  }
 },
 "nbformat": 4,
 "nbformat_minor": 0
}
